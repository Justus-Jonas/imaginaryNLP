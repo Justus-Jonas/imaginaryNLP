{
 "cells": [
  {
   "cell_type": "markdown",
   "source": [
    "# Example Notebook on Imaginary Embeddings for Long-Term-Planning"
   ],
   "metadata": {
    "collapsed": false
   }
  },
  {
   "cell_type": "code",
   "execution_count": 1,
   "outputs": [
    {
     "name": "stderr",
     "output_type": "stream",
     "text": [
      "/home/justus-jonas/anaconda3/lib/python3.9/site-packages/torch/cuda/__init__.py:107: UserWarning: CUDA initialization: The NVIDIA driver on your system is too old (found version 9010). Please update your GPU driver by downloading and installing a new version from the URL: http://www.nvidia.com/Download/index.aspx Alternatively, go to: https://pytorch.org to install a PyTorch version that has been compiled with your version of the CUDA driver. (Triggered internally at ../c10/cuda/CUDAFunctions.cpp:109.)\n",
      "  return torch._C._cuda_getDeviceCount() > 0\n"
     ]
    }
   ],
   "source": [
    "from imaginaryNLP.ImaginaryEmbeddingsForLTP import ImaginaryEmbeddingsForLTP\n",
    "\n",
    "ltp = ImaginaryEmbeddingsForLTP('Justus-Jonas/Imaginary-Embeddings-Classic', speaker_token=False)"
   ],
   "metadata": {
    "collapsed": false,
    "ExecuteTime": {
     "end_time": "2023-07-09T11:50:41.080497026Z",
     "start_time": "2023-07-09T11:50:13.038345006Z"
    }
   }
  },
  {
   "cell_type": "code",
   "execution_count": 2,
   "outputs": [],
   "source": [
    "# add a contex\n",
    "ltp.create_context([' Hello', 'Hi , great to meet you ! '])\n",
    "\n",
    "# add goals\n",
    "ltp.add_goal(\" great to hear that ! \")\n",
    "ltp.add_goal(\" Want to go for a walk ? \")\n",
    "ltp.add_goal(\" Bye !\")\n"
   ],
   "metadata": {
    "collapsed": false,
    "ExecuteTime": {
     "end_time": "2023-07-09T11:50:42.810225644Z",
     "start_time": "2023-07-09T11:50:41.044633458Z"
    }
   }
  },
  {
   "cell_type": "code",
   "execution_count": 25,
   "outputs": [
    {
     "data": {
      "text/plain": "' Want to go for a walk ? '"
     },
     "execution_count": 25,
     "metadata": {},
     "output_type": "execute_result"
    }
   ],
   "source": [
    "ltp.greedy_curving()"
   ],
   "metadata": {
    "collapsed": false,
    "pycharm": {
     "name": "#%%\n"
    },
    "ExecuteTime": {
     "end_time": "2023-07-09T11:15:41.796476670Z",
     "start_time": "2023-07-09T11:15:41.738683976Z"
    }
   }
  },
  {
   "cell_type": "code",
   "execution_count": 26,
   "outputs": [
    {
     "data": {
      "text/plain": "[' Want to go for a walk ? ', ' great to hear that ! ', ' Bye !']"
     },
     "execution_count": 26,
     "metadata": {},
     "output_type": "execute_result"
    }
   ],
   "source": [
    "ltp.imaginary_embedding_chains()"
   ],
   "metadata": {
    "collapsed": false,
    "pycharm": {
     "name": "#%%\n"
    },
    "ExecuteTime": {
     "end_time": "2023-07-09T11:15:44.279316354Z",
     "start_time": "2023-07-09T11:15:44.265047156Z"
    }
   }
  },
  {
   "cell_type": "code",
   "execution_count": 27,
   "outputs": [
    {
     "data": {
      "text/plain": "[' Want to go for a walk ? ', ' great to hear that ! ', ' Bye !']"
     },
     "execution_count": 27,
     "metadata": {},
     "output_type": "execute_result"
    }
   ],
   "source": [
    "ltp.imaginary_embedding_chains_with_curving()"
   ],
   "metadata": {
    "collapsed": false,
    "ExecuteTime": {
     "end_time": "2023-07-09T11:15:45.866861822Z",
     "start_time": "2023-07-09T11:15:45.853507807Z"
    }
   }
  },
  {
   "cell_type": "markdown",
   "source": [
    "# Evaluating models on Long-Term-Planning"
   ],
   "metadata": {
    "collapsed": false
   }
  },
  {
   "cell_type": "code",
   "execution_count": null,
   "outputs": [],
   "source": [
    "from imaginaryNLP.ImaginaryEmbeddingsForLTP import EvalImaginaryEmbeddingsForLTP\n",
    "from datasets import load_dataset\n",
    "\n",
    "data = \"/path/to/output_dir\"\n",
    "\n",
    "daily_dialog = load_dataset(\"daily_dialog\")\n",
    "test_dialog = daily_dialog['test']['dialog']\n",
    "\n",
    "ltp = EvalImaginaryEmbeddingsForLTP('Justus-Jonas/Imaginary-Embeddings-Classic', speaker_token=True)\n",
    "\n",
    "# create dataset\n",
    "ltp.create_ltp_dataset(test_dialog)\n",
    "\n",
    "# evaluate the dataset, will return a dataframe with the results\n",
    "ltp.evaluate_ltp_dataset(data, output_file_name='Imaginary-Embeddings-Classic')"
   ],
   "metadata": {
    "collapsed": false
   }
  }
 ],
 "metadata": {
  "kernelspec": {
   "display_name": "Python 3",
   "language": "python",
   "name": "python3"
  },
  "language_info": {
   "codemirror_mode": {
    "name": "ipython",
    "version": 2
   },
   "file_extension": ".py",
   "mimetype": "text/x-python",
   "name": "python",
   "nbconvert_exporter": "python",
   "pygments_lexer": "ipython2",
   "version": "2.7.6"
  }
 },
 "nbformat": 4,
 "nbformat_minor": 0
}
