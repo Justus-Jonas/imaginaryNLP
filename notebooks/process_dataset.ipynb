{
 "cells": [
  {
   "cell_type": "code",
   "execution_count": 1,
   "id": "43392eda-7af7-49b7-b1bf-c696d3ae840d",
   "metadata": {},
   "outputs": [],
   "source": [
    "# !pip install numpy==1.21.5  # Needed by imaginaryNLP"
   ]
  },
  {
   "cell_type": "markdown",
   "id": "8f4f5fec-108b-4b49-990a-653de33f3f58",
   "metadata": {},
   "source": [
    "### Load source datasets"
   ]
  },
  {
   "cell_type": "code",
   "execution_count": 3,
   "id": "badfe6c3-8165-4f31-b4c3-113e47b071ff",
   "metadata": {
    "scrolled": true
   },
   "outputs": [
    {
     "name": "stderr",
     "output_type": "stream",
     "text": [
      "Found cached dataset daily_dialog (/home/diwank/.cache/huggingface/datasets/daily_dialog/default/1.0.0/1d0a58c7f2a4dab5ed9d01dbde8e55e0058e589ab81fce5c2df929ea810eabcd)\n"
     ]
    },
    {
     "data": {
      "application/vnd.jupyter.widget-view+json": {
       "model_id": "41dcb23ef8f741c4855053fa27244288",
       "version_major": 2,
       "version_minor": 0
      },
      "text/plain": [
       "  0%|          | 0/3 [00:00<?, ?it/s]"
      ]
     },
     "metadata": {},
     "output_type": "display_data"
    },
    {
     "name": "stderr",
     "output_type": "stream",
     "text": [
      "Found cached dataset json (/home/diwank/.cache/huggingface/datasets/allenai___json/allenai--prosocial-dialog-94297629a652ae73/0.0.0/8bb11242116d547c741b2e8a1f18598ffdd40a1d4f2a2872c7a28b697434bc96)\n"
     ]
    },
    {
     "data": {
      "application/vnd.jupyter.widget-view+json": {
       "model_id": "ac35a35f64654e98a5501ed02cb0b205",
       "version_major": 2,
       "version_minor": 0
      },
      "text/plain": [
       "  0%|          | 0/3 [00:00<?, ?it/s]"
      ]
     },
     "metadata": {},
     "output_type": "display_data"
    },
    {
     "name": "stderr",
     "output_type": "stream",
     "text": [
      "No config specified, defaulting to: air_dialogue/air_dialogue_data\n",
      "Found cached dataset air_dialogue (/home/diwank/.cache/huggingface/datasets/air_dialogue/air_dialogue_data/1.1.0/38932dc01f4fbf071a129beb7c4afd0982306ab8bc7c994f050467014df5e4a5)\n"
     ]
    },
    {
     "data": {
      "application/vnd.jupyter.widget-view+json": {
       "model_id": "c515e41f2f8142a49836b2f0d24a3e2e",
       "version_major": 2,
       "version_minor": 0
      },
      "text/plain": [
       "  0%|          | 0/2 [00:00<?, ?it/s]"
      ]
     },
     "metadata": {},
     "output_type": "display_data"
    }
   ],
   "source": [
    "from datasets import load_dataset, Dataset, DatasetDict, concatenate_datasets\n",
    "import pandas as pd\n",
    "\n",
    "daily_dialog = load_dataset(\"daily_dialog\")\n",
    "prosocial_dialog = load_dataset(\"allenai/prosocial-dialog\")\n",
    "air_dialogue = load_dataset(\"air_dialogue\")"
   ]
  },
  {
   "cell_type": "markdown",
   "id": "edea535b-75b5-4b09-8257-7f176005bb20",
   "metadata": {},
   "source": [
    "### Process prosocial dialog"
   ]
  },
  {
   "cell_type": "code",
   "execution_count": 4,
   "id": "937d1666-8e54-4e09-b0eb-325a91664ce7",
   "metadata": {},
   "outputs": [],
   "source": [
    "prosocial_dialog_pd = {}\n",
    "\n",
    "def collect_responses(grouped_row):\n",
    "    grouped_row = grouped_row.sort_values(\"response_id\")\n",
    "    spkr_a = grouped_row[\"context\"].tolist()\n",
    "    spkr_b = grouped_row[\"response\"].tolist()\n",
    "    \n",
    "    zipped = zip(spkr_a, spkr_b)\n",
    "    utterances = [utterance for pair in zipped for utterance in pair]\n",
    "    \n",
    "    return dict(utterances=utterances)\n",
    "    \n",
    "for split in prosocial_dialog.keys():\n",
    "    prosocial_dialog_pd[split] = prosocial_dialog[split].to_pandas()\n",
    "    prosocial_dialog_pd[split] = prosocial_dialog_pd[split].groupby([\"dialogue_id\"]).apply(collect_responses)\n",
    "\n",
    "prosocial_dialog_processed = DatasetDict(**{\n",
    "    split: Dataset.from_list([dict(dialog=row[\"utterances\"]) for row in data.tolist()])\n",
    "    for split, data in prosocial_dialog_pd.items()\n",
    "})"
   ]
  },
  {
   "cell_type": "markdown",
   "id": "29bd1337-e165-447f-8b94-abe03b30b13d",
   "metadata": {},
   "source": [
    "### Process air dialogue"
   ]
  },
  {
   "cell_type": "code",
   "execution_count": 9,
   "id": "5f7e30a5-4e77-4dcc-8849-94029da17b73",
   "metadata": {},
   "outputs": [
    {
     "name": "stderr",
     "output_type": "stream",
     "text": [
      "Loading cached processed dataset at /home/diwank/.cache/huggingface/datasets/air_dialogue/air_dialogue_data/1.1.0/38932dc01f4fbf071a129beb7c4afd0982306ab8bc7c994f050467014df5e4a5/cache-835f96dbb8e90454.arrow\n",
      "Loading cached processed dataset at /home/diwank/.cache/huggingface/datasets/air_dialogue/air_dialogue_data/1.1.0/38932dc01f4fbf071a129beb7c4afd0982306ab8bc7c994f050467014df5e4a5/cache-30ad3254375c68fb.arrow\n"
     ]
    }
   ],
   "source": [
    "def process_air_dialogue(row):\n",
    "    # \"dialogue\" column format:\n",
    "    # > [\"customer: hi\", \"agent: hello\", ...]\n",
    "    #\n",
    "    # Get utterances (notice difference between dialog and dialogue columns)\n",
    "    dialog = [utterance.split(':')[-1].strip() for utterance in row[\"dialogue\"]]\n",
    "    \n",
    "    result = dict(dialog=dialog)\n",
    "    return result\n",
    "\n",
    "air_dialogue_processed = air_dialogue.map(process_air_dialogue)\n",
    "\n",
    "# Doesn't have a test split, so let's add it\n",
    "ad_validation_split = air_dialogue_processed[\"validation\"].train_test_split(0.5)\n",
    "\n",
    "air_dialogue_processed[\"validation\"] = ad_validation_split[\"train\"]\n",
    "air_dialogue_processed[\"test\"] = ad_validation_split[\"test\"]"
   ]
  },
  {
   "cell_type": "markdown",
   "id": "6be52a00-495b-428a-92c8-79c9ada869b2",
   "metadata": {},
   "source": [
    "### Rebalance datasets"
   ]
  },
  {
   "cell_type": "code",
   "execution_count": 17,
   "id": "70b96a75-da0a-4020-b1db-0c9c4f3de868",
   "metadata": {},
   "outputs": [],
   "source": [
    "import math\n",
    "\n",
    "datasets = dict(\n",
    "    air_dialogue=air_dialogue_processed,\n",
    "    prosocial_dialog=prosocial_dialog_processed,\n",
    "    daily_dialog=daily_dialog,\n",
    ")\n",
    "\n",
    "datasets_len = {\n",
    "    key: len(ds[\"train\"])\n",
    "    for key, ds in datasets.items()\n",
    "}\n",
    "\n",
    "largest_dataset_len = max(datasets_len.values())\n",
    "\n",
    "multipliers = {\n",
    "    key: math.ceil(largest_dataset_len / length)\n",
    "    for key, length in datasets_len.items()\n",
    "}\n",
    "\n",
    "def get_multiplied_datasets_by_split(split):\n",
    "    concatted = []\n",
    "\n",
    "    for key, ds in datasets.items():\n",
    "        concatted.extend([ds[split]] * multipliers[key])\n",
    "\n",
    "    return concatted"
   ]
  },
  {
   "cell_type": "markdown",
   "id": "6f48cf31-c9cc-40b7-a9d0-ab81cc2d3517",
   "metadata": {},
   "source": [
    "### Concat datasets"
   ]
  },
  {
   "cell_type": "code",
   "execution_count": 21,
   "id": "18d7edad-b923-4f37-8c12-f02c750cf845",
   "metadata": {},
   "outputs": [],
   "source": [
    "dataset = {}\n",
    "\n",
    "for split in prosocial_dialog.keys():\n",
    "    dataset[split] = concatenate_datasets(get_multiplied_datasets_by_split(split))\n",
    "\n",
    "dataset = DatasetDict(**dataset)\n",
    "\n",
    "# Remove all columns except \"dialog\"\n",
    "dataset = dataset.remove_columns(list(set(dataset[\"train\"].column_names) - {\"dialog\"})).shuffle()"
   ]
  },
  {
   "cell_type": "markdown",
   "id": "47ad37f3-aced-4513-b4c6-8855a2525128",
   "metadata": {},
   "source": [
    "### Make sure to \"look at the dataset\""
   ]
  },
  {
   "cell_type": "code",
   "execution_count": 23,
   "id": "79d4281c-225b-495a-8944-c34417bed9e5",
   "metadata": {},
   "outputs": [
    {
     "data": {
      "text/plain": [
       "{'air_dialogue': [['Hello.',\n",
       "   'Hello. How may I help you?',\n",
       "   'Can you help me to change my recent reservation because my trip dates are got postponed?',\n",
       "   'I will help you with that please share your name to proceed further?',\n",
       "   'Edward hall here.',\n",
       "   'Please wait for a while.',\n",
       "   'Sure, take your own time.',\n",
       "   'There is no active reservation found under your name to amend it.',\n",
       "   \"That's ok, thank you for checking.\",\n",
       "   'Thank you for choosing us.'],\n",
       "  ['HI.',\n",
       "   'Hello. How may I be of your address?',\n",
       "   'I want to book a flight ticket to Las Vegas with price under 1000. Can you please help me with it?',\n",
       "   'Sure, can I know your connection limit?',\n",
       "   'I need a single connection.',\n",
       "   'Please let me know your boarding and landing points.',\n",
       "   'Airport codes are HOU-LAS.',\n",
       "   'Kindly share your planned travelling dates to proceed further.',\n",
       "   'Travel dates are 04/03 and 04/05.',\n",
       "   'Please wait a while.',\n",
       "   'Ok.',\n",
       "   'We found a Frontier airline matching your essential details with one connection and the flight number-1006.',\n",
       "   'Please proceed booking with the name Stephen Evans.',\n",
       "   'Your booking has been processed successfully.',\n",
       "   'Thanks for the help.',\n",
       "   \"You're welcome. Happy journey.\"]],\n",
       " 'prosocial_dialog': [['I tried a bit of shadowboxing today. Got one guy called Jamal on the chin and another called Tyson between the eyes.',\n",
       "   \"This isn't a joke about black people, right? If it is, it isn't funny.\",\n",
       "   \"You're right, it isn't funny. Finding enjoyment in other people's pains isn't funny.\",\n",
       "   'I am glad that you agree. Joking about abusing black people can quickly get you marked as a racist.'],\n",
       "  ['Did I tell you how I used to poke holes in condoms when I worked at a gas station in the ghetto?',\n",
       "   \"That's a pretty low down thing to do.\",\n",
       "   'I wanted to prank others like that',\n",
       "   \"You should not poke holes in condoms. You could ruin someone's life doing that. Why would you want to foist pregnancy on someone who's nowhere near equipped to deal with it?\",\n",
       "   \"It's harmless. I doesn't hurt anyone. I just wanted to entertain my coworkers.\",\n",
       "   \"You're not thinking. How do you conclude exposing young women to pregnancy is harmless? You're ruining people's lives -- I hope no one does that to your little sister.\"]],\n",
       " 'daily_dialog': [['Say , Jim , how about going for a few beers after dinner ? ',\n",
       "   ' You know that is tempting but is really not good for our fitness . ',\n",
       "   ' What do you mean ? It will help us to relax . ',\n",
       "   \" Do you really think so ? I don't . It will just make us fat and act silly . Remember last time ? \",\n",
       "   \" I guess you are right.But what shall we do ? I don't feel like sitting at home . \",\n",
       "   ' I suggest a walk over to the gym where we can play singsong and meet some of our friends . ',\n",
       "   \" That's a good idea . I hear Mary and Sally often go there to play pingpong.Perhaps we can make a foursome with them . \",\n",
       "   ' Sounds great to me ! If they are willing , we could ask them to go dancing with us.That is excellent exercise and fun , too . ',\n",
       "   \" Good.Let ' s go now . \",\n",
       "   ' All right . '],\n",
       "  ['Can you do push-ups ? ',\n",
       "   \" Of course I can . It's a piece of cake ! Believe it or not , I can do 30 push-ups a minute . \",\n",
       "   \" Really ? I think that's impossible ! \",\n",
       "   ' You mean 30 push-ups ? ',\n",
       "   ' Yeah ! ',\n",
       "   \" It's easy . If you do exercise everyday , you can make it , too . \"]]}"
      ]
     },
     "execution_count": 23,
     "metadata": {},
     "output_type": "execute_result"
    }
   ],
   "source": [
    "{\n",
    "    key: ds[\"train\"][:2][\"dialog\"]\n",
    "    for key, ds in datasets.items()\n",
    "}"
   ]
  },
  {
   "cell_type": "markdown",
   "id": "ea9f0d76-9f12-4c88-afa1-8f7e604cbab1",
   "metadata": {},
   "source": [
    "### Visualize"
   ]
  },
  {
   "cell_type": "code",
   "execution_count": 29,
   "id": "5d4261e1-0b03-4207-bf38-957a50cd56f0",
   "metadata": {},
   "outputs": [],
   "source": [
    "import matplotlib.pyplot as plt\n",
    "import numpy as np\n",
    "\n",
    "# if using a Jupyter notebook, includue:\n",
    "%matplotlib inline"
   ]
  },
  {
   "cell_type": "code",
   "execution_count": 30,
   "id": "8f09e2f2-c5ac-4e5c-8178-a7b5cda4460e",
   "metadata": {},
   "outputs": [
    {
     "name": "stderr",
     "output_type": "stream",
     "text": [
      "Loading cached processed dataset at /home/diwank/.cache/huggingface/datasets/air_dialogue/air_dialogue_data/1.1.0/38932dc01f4fbf071a129beb7c4afd0982306ab8bc7c994f050467014df5e4a5/cache-4fee1ffe9f7ac4b5.arrow\n",
      "Loading cached processed dataset at /home/diwank/.cache/huggingface/datasets/air_dialogue/air_dialogue_data/1.1.0/38932dc01f4fbf071a129beb7c4afd0982306ab8bc7c994f050467014df5e4a5/cache-a79debe39d0feb34.arrow\n",
      "Loading cached processed dataset at /home/diwank/.cache/huggingface/datasets/air_dialogue/air_dialogue_data/1.1.0/38932dc01f4fbf071a129beb7c4afd0982306ab8bc7c994f050467014df5e4a5/cache-496c3bdb7edf5fbd.arrow\n"
     ]
    },
    {
     "data": {
      "text/plain": [
       "(8, 885)"
      ]
     },
     "execution_count": 30,
     "metadata": {},
     "output_type": "execute_result"
    }
   ],
   "source": [
    "all_with_length = dataset.map(lambda row: dict(length=len(\" \".join(row[\"dialog\"]).split(\" \"))))\n",
    "min(all_with_length[\"train\"][\"length\"]), max(all_with_length[\"train\"][\"length\"])"
   ]
  },
  {
   "cell_type": "code",
   "execution_count": 31,
   "id": "9fbab0d0-e874-4c79-a575-2fd6bdd593b9",
   "metadata": {},
   "outputs": [
    {
     "data": {
      "image/png": "[encoded data removed]",
      "text/plain": [
       "<Figure size 640x480 with 1 Axes>"
      ]
     },
     "metadata": {},
     "output_type": "display_data"
    }
   ],
   "source": [
    "dialog_lengths = np.array(all_with_length[\"train\"][\"length\"])\n",
    "\n",
    "plt.hist(dialog_lengths, 100)\n",
    "plt.show()"
   ]
  },
  {
   "cell_type": "markdown",
   "id": "03587d70-7f89-413b-92e4-b89e6e153adf",
   "metadata": {},
   "source": [
    "### Push to hub"
   ]
  },
  {
   "cell_type": "code",
   "execution_count": 33,
   "id": "86939135-83fa-494f-9b2a-3351264c8a48",
   "metadata": {
    "scrolled": true
   },
   "outputs": [
    {
     "name": "stderr",
     "output_type": "stream",
     "text": [
      "Pushing split train to the Hub.\n",
      "Resuming upload of the dataset shards.\n"
     ]
    },
    {
     "data": {
      "application/vnd.jupyter.widget-view+json": {
       "model_id": "45405457ed274c8bbcb5e5d1e8b002da",
       "version_major": 2,
       "version_minor": 0
      },
      "text/plain": [
       "Pushing dataset shards to the dataset hub:   0%|          | 0/2 [00:00<?, ?it/s]"
      ]
     },
     "metadata": {},
     "output_type": "display_data"
    },
    {
     "name": "stderr",
     "output_type": "stream",
     "text": [
      "Pushing split validation to the Hub.\n"
     ]
    },
    {
     "data": {
      "application/vnd.jupyter.widget-view+json": {
       "model_id": "d567ab72a1de427687e7b750b21985d1",
       "version_major": 2,
       "version_minor": 0
      },
      "text/plain": [
       "Pushing dataset shards to the dataset hub:   0%|          | 0/1 [00:00<?, ?it/s]"
      ]
     },
     "metadata": {},
     "output_type": "display_data"
    },
    {
     "data": {
      "application/vnd.jupyter.widget-view+json": {
       "model_id": "5e99180ec9ca4c75b605339df5ddd5b9",
       "version_major": 2,
       "version_minor": 0
      },
      "text/plain": [
       "Creating parquet from Arrow format:   0%|          | 0/107 [00:00<?, ?ba/s]"
      ]
     },
     "metadata": {},
     "output_type": "display_data"
    },
    {
     "data": {
      "application/vnd.jupyter.widget-view+json": {
       "model_id": "c39650b992904bffb653049590037bd8",
       "version_major": 2,
       "version_minor": 0
      },
      "text/plain": [
       "Deleting unused files from dataset repository:   0%|          | 0/1 [00:00<?, ?it/s]"
      ]
     },
     "metadata": {},
     "output_type": "display_data"
    },
    {
     "name": "stderr",
     "output_type": "stream",
     "text": [
      "Pushing split test to the Hub.\n"
     ]
    },
    {
     "data": {
      "application/vnd.jupyter.widget-view+json": {
       "model_id": "e63349ea4eb2417dba09e98ae591ecfe",
       "version_major": 2,
       "version_minor": 0
      },
      "text/plain": [
       "Pushing dataset shards to the dataset hub:   0%|          | 0/1 [00:00<?, ?it/s]"
      ]
     },
     "metadata": {},
     "output_type": "display_data"
    },
    {
     "data": {
      "application/vnd.jupyter.widget-view+json": {
       "model_id": "97cb87bb9b7a4b4b96146e396e3081b6",
       "version_major": 2,
       "version_minor": 0
      },
      "text/plain": [
       "Creating parquet from Arrow format:   0%|          | 0/119 [00:00<?, ?ba/s]"
      ]
     },
     "metadata": {},
     "output_type": "display_data"
    },
    {
     "data": {
      "application/vnd.jupyter.widget-view+json": {
       "model_id": "2eb82a80e964494cac6b28bffc3958ae",
       "version_major": 2,
       "version_minor": 0
      },
      "text/plain": [
       "Deleting unused files from dataset repository:   0%|          | 0/1 [00:00<?, ?it/s]"
      ]
     },
     "metadata": {},
     "output_type": "display_data"
    },
    {
     "data": {
      "application/vnd.jupyter.widget-view+json": {
       "model_id": "38d2119d90dd48f58e5d6d2405804f96",
       "version_major": 2,
       "version_minor": 0
      },
      "text/plain": [
       "Downloading metadata:   0%|          | 0.00/508 [00:00<?, ?B/s]"
      ]
     },
     "metadata": {},
     "output_type": "display_data"
    }
   ],
   "source": [
    "dataset.push_to_hub(\"diwank/imaginary-nlp-dataset\")"
   ]
  },
  {
   "cell_type": "code",
   "execution_count": null,
   "id": "486b4b46-4499-47cb-b765-5daaa05ca3e7",
   "metadata": {},
   "outputs": [],
   "source": []
  }
 ],
 "metadata": {
  "kernelspec": {
   "display_name": "Python 3 (ipykernel)",
   "language": "python",
   "name": "python3"
  },
  "language_info": {
   "codemirror_mode": {
    "name": "ipython",
    "version": 3
   },
   "file_extension": ".py",
   "mimetype": "text/x-python",
   "name": "python",
   "nbconvert_exporter": "python",
   "pygments_lexer": "ipython3",
   "version": "3.10.5"
  }
 },
 "nbformat": 4,
 "nbformat_minor": 5
}
