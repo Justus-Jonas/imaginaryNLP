{
 "cells": [
  {
   "cell_type": "markdown",
   "source": [
    "# Example Notebook on Imaginary Embeddings for Sequence Modeling"
   ],
   "metadata": {
    "collapsed": false
   }
  },
  {
   "cell_type": "code",
   "execution_count": 4,
   "outputs": [
    {
     "data": {
      "text/plain": "Downloading (…)ac764/.gitattributes:   0%|          | 0.00/1.52k [00:00<?, ?B/s]",
      "application/vnd.jupyter.widget-view+json": {
       "version_major": 2,
       "version_minor": 0,
       "model_id": "864ad880520840b8844c503831bdbe3a"
      }
     },
     "metadata": {},
     "output_type": "display_data"
    },
    {
     "data": {
      "text/plain": "Downloading (…)_Pooling/config.json:   0%|          | 0.00/190 [00:00<?, ?B/s]",
      "application/vnd.jupyter.widget-view+json": {
       "version_major": 2,
       "version_minor": 0,
       "model_id": "388da258242d40ee8add8c3be4258e47"
      }
     },
     "metadata": {},
     "output_type": "display_data"
    },
    {
     "data": {
      "text/plain": "Downloading (…)320bbac764/README.md:   0%|          | 0.00/427 [00:00<?, ?B/s]",
      "application/vnd.jupyter.widget-view+json": {
       "version_major": 2,
       "version_minor": 0,
       "model_id": "57a325a516fa4f11ba213084a832915e"
      }
     },
     "metadata": {},
     "output_type": "display_data"
    },
    {
     "data": {
      "text/plain": "Downloading (…)64/added_tokens.json:   0%|          | 0.00/44.0 [00:00<?, ?B/s]",
      "application/vnd.jupyter.widget-view+json": {
       "version_major": 2,
       "version_minor": 0,
       "model_id": "8ec318f55a8d4f239c3368d838e61e58"
      }
     },
     "metadata": {},
     "output_type": "display_data"
    },
    {
     "data": {
      "text/plain": "Downloading (…)0bbac764/config.json:   0%|          | 0.00/666 [00:00<?, ?B/s]",
      "application/vnd.jupyter.widget-view+json": {
       "version_major": 2,
       "version_minor": 0,
       "model_id": "fc0c855ee8524bbe95370e9ea0336271"
      }
     },
     "metadata": {},
     "output_type": "display_data"
    },
    {
     "data": {
      "text/plain": "Downloading (…)ce_transformers.json:   0%|          | 0.00/128 [00:00<?, ?B/s]",
      "application/vnd.jupyter.widget-view+json": {
       "version_major": 2,
       "version_minor": 0,
       "model_id": "e81e623407244c2d84d4648bece12dc0"
      }
     },
     "metadata": {},
     "output_type": "display_data"
    },
    {
     "data": {
      "text/plain": "Downloading (…)20bbac764/merges.txt:   0%|          | 0.00/456k [00:00<?, ?B/s]",
      "application/vnd.jupyter.widget-view+json": {
       "version_major": 2,
       "version_minor": 0,
       "model_id": "91e0e2ab077e407e9b8ba4a209c384d8"
      }
     },
     "metadata": {},
     "output_type": "display_data"
    },
    {
     "data": {
      "text/plain": "Downloading pytorch_model.bin:   0%|          | 0.00/499M [00:00<?, ?B/s]",
      "application/vnd.jupyter.widget-view+json": {
       "version_major": 2,
       "version_minor": 0,
       "model_id": "9dd3a7d6c55e4792be8b6f846acceb97"
      }
     },
     "metadata": {},
     "output_type": "display_data"
    },
    {
     "data": {
      "text/plain": "Downloading (…)nce_bert_config.json:   0%|          | 0.00/53.0 [00:00<?, ?B/s]",
      "application/vnd.jupyter.widget-view+json": {
       "version_major": 2,
       "version_minor": 0,
       "model_id": "d269323918e64b5c96935efaf43aa5d7"
      }
     },
     "metadata": {},
     "output_type": "display_data"
    },
    {
     "data": {
      "text/plain": "Downloading (…)cial_tokens_map.json:   0%|          | 0.00/280 [00:00<?, ?B/s]",
      "application/vnd.jupyter.widget-view+json": {
       "version_major": 2,
       "version_minor": 0,
       "model_id": "7945ebebe2d449b2b4f5ba82184ddfcb"
      }
     },
     "metadata": {},
     "output_type": "display_data"
    },
    {
     "data": {
      "text/plain": "Downloading (…)ac764/tokenizer.json:   0%|          | 0.00/2.11M [00:00<?, ?B/s]",
      "application/vnd.jupyter.widget-view+json": {
       "version_major": 2,
       "version_minor": 0,
       "model_id": "f1423d2604a6468eaef044a1857f8a85"
      }
     },
     "metadata": {},
     "output_type": "display_data"
    },
    {
     "data": {
      "text/plain": "Downloading (…)okenizer_config.json:   0%|          | 0.00/380 [00:00<?, ?B/s]",
      "application/vnd.jupyter.widget-view+json": {
       "version_major": 2,
       "version_minor": 0,
       "model_id": "9875aa1807254c4ab867a1c7c1c310d7"
      }
     },
     "metadata": {},
     "output_type": "display_data"
    },
    {
     "data": {
      "text/plain": "Downloading (…)20bbac764/vocab.json:   0%|          | 0.00/798k [00:00<?, ?B/s]",
      "application/vnd.jupyter.widget-view+json": {
       "version_major": 2,
       "version_minor": 0,
       "model_id": "e45533b0ff6941b7bae949cb504ae133"
      }
     },
     "metadata": {},
     "output_type": "display_data"
    },
    {
     "data": {
      "text/plain": "Downloading (…)bbac764/modules.json:   0%|          | 0.00/229 [00:00<?, ?B/s]",
      "application/vnd.jupyter.widget-view+json": {
       "version_major": 2,
       "version_minor": 0,
       "model_id": "26f4ef38c7ce4b90a46796497fdf7d17"
      }
     },
     "metadata": {},
     "output_type": "display_data"
    },
    {
     "name": "stdout",
     "output_type": "stream",
     "text": [
      "Sorry, but the code for Imaginary Embeddings is not yet published. You will be able to test this package during the ACL 2023 conference.\n"
     ]
    }
   ],
   "source": [
    "from imaginaryNLP.ImaginaryEmbeddingsForSequenceModeling import EvalImaginaryEmbeddingsForSequenceModeling\n",
    "\n",
    "# Load the model\n",
    "seq = EvalImaginaryEmbeddingsForSequenceModeling('Justus-Jonas/Imaginary-Embeddings-Classic', speaker_token=False)"
   ],
   "metadata": {
    "collapsed": false,
    "pycharm": {
     "name": "#%%\n"
    },
    "ExecuteTime": {
     "end_time": "2023-07-09T11:44:54.224787322Z",
     "start_time": "2023-07-09T11:39:28.518362300Z"
    }
   }
  },
  {
   "cell_type": "markdown",
   "source": [
    "# Utilizing Pre-compute in sequence modeling with filtering"
   ],
   "metadata": {
    "collapsed": false
   }
  },
  {
   "cell_type": "code",
   "execution_count": 7,
   "outputs": [
    {
     "data": {
      "text/plain": "Batches:   0%|          | 0/1 [00:00<?, ?it/s]",
      "application/vnd.jupyter.widget-view+json": {
       "version_major": 2,
       "version_minor": 0,
       "model_id": "7e6e7ef9d166410ba83702d7ce904a0c"
      }
     },
     "metadata": {},
     "output_type": "display_data"
    }
   ],
   "source": [
    "seq.load_candidates_from_strings([\"I'm fine, thanks. How are you?\", \"Where did you go?\", \"ACL is an interesting conference\"])\n",
    "seq.create_context([\"Hi!\",'Hey, how are you?'], precompute_top_p=0.8)"
   ],
   "metadata": {
    "collapsed": false,
    "pycharm": {
     "name": "#%%\n"
    },
    "ExecuteTime": {
     "end_time": "2023-07-09T11:46:46.234388536Z",
     "start_time": "2023-07-09T11:46:45.987903307Z"
    }
   }
  },
  {
   "cell_type": "markdown",
   "source": [],
   "metadata": {
    "collapsed": false
   }
  },
  {
   "cell_type": "code",
   "execution_count": 8,
   "outputs": [
    {
     "name": "stdout",
     "output_type": "stream",
     "text": [
      "computed_scores: tensor([[1.1310, 1.1134]])\n"
     ]
    },
    {
     "data": {
      "text/plain": "(['Where did you go?', \"I'm fine, thanks. How are you?\"],\n [1.1310292482376099, 1.1134188175201416])"
     },
     "execution_count": 8,
     "metadata": {},
     "output_type": "execute_result"
    }
   ],
   "source": [
    "seq.sequence_modeling_with_precompute(\"I am doing good. Today I went for a walk. \")"
   ],
   "metadata": {
    "collapsed": false,
    "ExecuteTime": {
     "end_time": "2023-07-09T11:46:48.027648925Z",
     "start_time": "2023-07-09T11:46:47.863897773Z"
    }
   }
  },
  {
   "cell_type": "code",
   "execution_count": 4,
   "outputs": [
    {
     "name": "stdout",
     "output_type": "stream",
     "text": [
      "computed_scores: tensor([1.1056, 0.5536, 0.5671])\n"
     ]
    },
    {
     "data": {
      "text/plain": "(['the kettle is boiling',\n  'You are welcome!',\n  \"I'm fine, thanks. How are you?\"],\n [1.1055872440338135, 0.5671207308769226, 0.5536468029022217])"
     },
     "execution_count": 4,
     "metadata": {},
     "output_type": "execute_result"
    }
   ],
   "source": [
    "seq.sequence_model_single_context()"
   ],
   "metadata": {
    "collapsed": false,
    "ExecuteTime": {
     "end_time": "2023-07-07T21:27:41.484611065Z",
     "start_time": "2023-07-07T21:27:41.484021895Z"
    }
   }
  },
  {
   "cell_type": "markdown",
   "source": [
    "# Evaluate model"
   ],
   "metadata": {
    "collapsed": false
   }
  },
  {
   "cell_type": "code",
   "execution_count": 5,
   "outputs": [
    {
     "name": "stderr",
     "output_type": "stream",
     "text": [
      "Found cached dataset daily_dialog (/home/justus-jonas/.cache/huggingface/datasets/daily_dialog/default/1.0.0/1d0a58c7f2a4dab5ed9d01dbde8e55e0058e589ab81fce5c2df929ea810eabcd)\n"
     ]
    },
    {
     "data": {
      "text/plain": "  0%|          | 0/3 [00:00<?, ?it/s]",
      "application/vnd.jupyter.widget-view+json": {
       "version_major": 2,
       "version_minor": 0,
       "model_id": "94c69af6e70542b5be342936f554acab"
      }
     },
     "metadata": {},
     "output_type": "display_data"
    },
    {
     "name": "stdout",
     "output_type": "stream",
     "text": [
      "history length: 1\n",
      "history length: 2\n",
      "history length: 3\n",
      "history length: 4\n",
      "history length: 5\n",
      "history length: 6\n",
      "history length: 7\n",
      "history length: 8\n",
      "history length: 9\n",
      "history length: 10\n"
     ]
    },
    {
     "data": {
      "text/plain": "   H1_mean_rank  H2_mean_rank  H3_mean_rank  H4_mean_rank  H5_mean_rank  \\\n0           1.7           2.2           2.4      1.888889      1.666667   \n\n   H6_mean_rank  H7_mean_rank  H8_mean_rank  H9_mean_rank  H10_mean_rank  \n0      2.666667          1.75      1.833333      1.833333           1.75  ",
      "text/html": "<div>\n<style scoped>\n    .dataframe tbody tr th:only-of-type {\n        vertical-align: middle;\n    }\n\n    .dataframe tbody tr th {\n        vertical-align: top;\n    }\n\n    .dataframe thead th {\n        text-align: right;\n    }\n</style>\n<table border=\"1\" class=\"dataframe\">\n  <thead>\n    <tr style=\"text-align: right;\">\n      <th></th>\n      <th>H1_mean_rank</th>\n      <th>H2_mean_rank</th>\n      <th>H3_mean_rank</th>\n      <th>H4_mean_rank</th>\n      <th>H5_mean_rank</th>\n      <th>H6_mean_rank</th>\n      <th>H7_mean_rank</th>\n      <th>H8_mean_rank</th>\n      <th>H9_mean_rank</th>\n      <th>H10_mean_rank</th>\n    </tr>\n  </thead>\n  <tbody>\n    <tr>\n      <th>0</th>\n      <td>1.7</td>\n      <td>2.2</td>\n      <td>2.4</td>\n      <td>1.888889</td>\n      <td>1.666667</td>\n      <td>2.666667</td>\n      <td>1.75</td>\n      <td>1.833333</td>\n      <td>1.833333</td>\n      <td>1.75</td>\n    </tr>\n  </tbody>\n</table>\n</div>"
     },
     "execution_count": 5,
     "metadata": {},
     "output_type": "execute_result"
    }
   ],
   "source": [
    "from datasets import load_dataset\n",
    "\n",
    "dataset = load_dataset(\"daily_dialog\")\n",
    "test = dataset['test']['dialog']\n",
    "\n",
    "seq.eval_seq_dataset(test)\n"
   ],
   "metadata": {
    "collapsed": false,
    "ExecuteTime": {
     "end_time": "2023-07-07T21:27:54.086854853Z",
     "start_time": "2023-07-07T21:27:43.081343466Z"
    }
   }
  },
  {
   "cell_type": "code",
   "execution_count": 2,
   "outputs": [
    {
     "name": "stderr",
     "output_type": "stream",
     "text": [
      "Found cached dataset daily_dialog (/home/justus-jonas/.cache/huggingface/datasets/daily_dialog/default/1.0.0/1d0a58c7f2a4dab5ed9d01dbde8e55e0058e589ab81fce5c2df929ea810eabcd)\n"
     ]
    },
    {
     "data": {
      "text/plain": "  0%|          | 0/3 [00:00<?, ?it/s]",
      "application/vnd.jupyter.widget-view+json": {
       "version_major": 2,
       "version_minor": 0,
       "model_id": "2d1b43addddd44eeb9551133e8978001"
      }
     },
     "metadata": {},
     "output_type": "display_data"
    }
   ],
   "source": [
    "from timeit import default_timer as timer\n",
    "\n",
    "start = timer()\n",
    "print(ltp.imaginary_embedding_chains())\n",
    "\n",
    "end = timer()\n",
    "print(end - start)"
   ],
   "metadata": {
    "collapsed": false,
    "pycharm": {
     "name": "#%%\n"
    },
    "ExecuteTime": {
     "end_time": "2023-07-07T13:52:31.441519226Z",
     "start_time": "2023-07-07T13:52:29.505019Z"
    }
   }
  },
  {
   "cell_type": "code",
   "execution_count": 3,
   "outputs": [
    {
     "name": "stderr",
     "output_type": "stream",
     "text": [
      "/home/justus-jonas/PycharmProjects/nlp-i/imaginaryNLP/ImaginaryEmbeddingsForLTP.py:274: VisibleDeprecationWarning: Creating an ndarray from ragged nested sequences (which is a list-or-tuple of lists-or-tuples-or ndarrays with different lengths or shapes) is deprecated. If you meant to do this, you must specify 'dtype=object' when creating the ndarray.\n",
      "  dialogues = np.array([np.array(text) for text in dialogues])\n"
     ]
    },
    {
     "data": {
      "text/plain": "  0%|          | 0/16 [00:00<?, ?it/s]",
      "application/vnd.jupyter.widget-view+json": {
       "version_major": 2,
       "version_minor": 0,
       "model_id": "787c63472ba74c2ab43874fd539e2bc2"
      }
     },
     "metadata": {},
     "output_type": "display_data"
    }
   ],
   "source": [
    "import torch\n",
    "l = 4\n",
    "(torch.arange(1, l).view(-1, 1) / (l - 1))"
   ],
   "metadata": {
    "collapsed": false,
    "ExecuteTime": {
     "end_time": "2023-07-07T11:17:37.276868941Z",
     "start_time": "2023-07-07T11:17:37.110691496Z"
    }
   }
  },
  {
   "cell_type": "code",
   "execution_count": 2,
   "outputs": [
    {
     "ename": "NameError",
     "evalue": "name 'conversations' is not defined",
     "output_type": "error",
     "traceback": [
      "\u001B[0;31m---------------------------------------------------------------------------\u001B[0m",
      "\u001B[0;31mNameError\u001B[0m                                 Traceback (most recent call last)",
      "\u001B[0;32m/tmp/ipykernel_161812/3820269403.py\u001B[0m in \u001B[0;36m<module>\u001B[0;34m\u001B[0m\n\u001B[0;32m----> 1\u001B[0;31m \u001B[0mltp_eval\u001B[0m\u001B[0;34m.\u001B[0m\u001B[0mcreate_ltp_dataset\u001B[0m\u001B[0;34m(\u001B[0m\u001B[0mconversations\u001B[0m\u001B[0;34m,\u001B[0m \u001B[0moutput_dir\u001B[0m\u001B[0;34m=\u001B[0m\u001B[0;34m'data'\u001B[0m\u001B[0;34m)\u001B[0m\u001B[0;34m\u001B[0m\u001B[0;34m\u001B[0m\u001B[0m\n\u001B[0m",
      "\u001B[0;31mNameError\u001B[0m: name 'conversations' is not defined"
     ]
    }
   ],
   "source": [
    "print(ltp.imaginary_embedding_chains_with_curving())\n"
   ],
   "metadata": {
    "collapsed": false,
    "pycharm": {
     "name": "#%%\n"
    },
    "ExecuteTime": {
     "end_time": "2023-07-07T11:19:42.949206773Z",
     "start_time": "2023-07-07T11:19:42.640261272Z"
    }
   }
  },
  {
   "cell_type": "markdown",
   "source": [
    "scores tensor([243.0276, 223.1042, 233.7580, 314.9523, 278.0359, 210.5291, 282.5133,\n",
    "        242.0482, 199.1544, 276.6777, 286.3252, 190.9868, 245.1058, 294.2334,\n",
    "        281.8722, 292.4427, 332.6760, 360.2722, 343.7077, 348.9882, 399.2063,\n",
    "        323.0367, 278.5271, 307.9328])"
   ],
   "metadata": {
    "collapsed": false,
    "ExecuteTime": {
     "start_time": "2023-07-07T13:52:41.368354556Z"
    }
   },
   "outputs": [
    {
     "data": {
      "text/plain": "  0%|          | 0/16 [00:00<?, ?it/s]",
      "application/vnd.jupyter.widget-view+json": {
       "version_major": 2,
       "version_minor": 0,
       "model_id": "beee5c14b1a543afa17dcca334e0f8af"
      }
     },
     "metadata": {},
     "output_type": "display_data"
    },
    {
     "data": {
      "text/plain": "  0%|          | 0/41 [00:00<?, ?it/s]",
      "application/vnd.jupyter.widget-view+json": {
       "version_major": 2,
       "version_minor": 0,
       "model_id": "8afa80fa8c134fea8640b04c4719a8fb"
      }
     },
     "metadata": {},
     "output_type": "display_data"
    }
   ],
   "execution_count": null
  },
  {
   "cell_type": "code",
   "execution_count": 13,
   "outputs": [],
   "source": [
    "print(ltp.imaginary_embedding_chains())"
   ],
   "metadata": {
    "collapsed": false,
    "pycharm": {
     "name": "#%%\n"
    },
    "ExecuteTime": {
     "end_time": "2023-07-07T11:24:04.692998027Z",
     "start_time": "2023-07-07T11:24:04.160461596Z"
    }
   }
  },
  {
   "cell_type": "code",
   "execution_count": 2,
   "outputs": [
    {
     "name": "stdout",
     "output_type": "stream",
     "text": [
      "Sorry, but the code for Imaginary Embeddings is not yet published. You will be able to test this package during the ACL 2023 conference.\n"
     ]
    },
    {
     "data": {
      "text/plain": "' How are you doing ? '"
     },
     "execution_count": 2,
     "metadata": {},
     "output_type": "execute_result"
    }
   ],
   "source": [
    "!python3 -m pip uninstall  protobuf"
   ],
   "metadata": {
    "collapsed": false,
    "pycharm": {
     "name": "#%%\n"
    },
    "ExecuteTime": {
     "end_time": "2023-07-07T07:31:11.561240651Z",
     "start_time": "2023-07-07T07:31:09.945784645Z"
    }
   }
  },
  {
   "cell_type": "code",
   "execution_count": null,
   "outputs": [],
   "source": [
    "print(ltp.imaginary_embedding_chains())"
   ],
   "metadata": {
    "collapsed": false,
    "pycharm": {
     "name": "#%%\n"
    }
   }
  },
  {
   "cell_type": "code",
   "execution_count": 3,
   "outputs": [
    {
     "ename": "NameError",
     "evalue": "name 'ltp' is not defined",
     "output_type": "error",
     "traceback": [
      "\u001B[0;31m---------------------------------------------------------------------------\u001B[0m",
      "\u001B[0;31mNameError\u001B[0m                                 Traceback (most recent call last)",
      "\u001B[0;32m/tmp/ipykernel_162718/466810045.py\u001B[0m in \u001B[0;36m<module>\u001B[0;34m\u001B[0m\n\u001B[0;32m----> 1\u001B[0;31m \u001B[0mprint\u001B[0m\u001B[0;34m(\u001B[0m\u001B[0mltp\u001B[0m\u001B[0;34m.\u001B[0m\u001B[0mimaginary_embedding_chains_with_curving\u001B[0m\u001B[0;34m(\u001B[0m\u001B[0mreturn_rank\u001B[0m\u001B[0;34m=\u001B[0m\u001B[0;32mTrue\u001B[0m\u001B[0;34m)\u001B[0m\u001B[0;34m)\u001B[0m\u001B[0;34m\u001B[0m\u001B[0;34m\u001B[0m\u001B[0m\n\u001B[0m",
      "\u001B[0;31mNameError\u001B[0m: name 'ltp' is not defined"
     ]
    }
   ],
   "source": [
    "!python3 -m pip uninstall  protobuf"
   ],
   "metadata": {
    "collapsed": false,
    "pycharm": {
     "name": "#%%\n"
    },
    "ExecuteTime": {
     "end_time": "2023-07-07T11:33:31.989710964Z",
     "start_time": "2023-07-07T11:33:31.958323466Z"
    }
   }
  },
  {
   "cell_type": "code",
   "execution_count": 4,
   "outputs": [
    {
     "ename": "NameError",
     "evalue": "name 'ltp' is not defined",
     "output_type": "error",
     "traceback": [
      "\u001B[0;31m---------------------------------------------------------------------------\u001B[0m",
      "\u001B[0;31mNameError\u001B[0m                                 Traceback (most recent call last)",
      "\u001B[0;32m/tmp/ipykernel_162718/4083209797.py\u001B[0m in \u001B[0;36m<module>\u001B[0;34m\u001B[0m\n\u001B[0;32m----> 1\u001B[0;31m \u001B[0mprint\u001B[0m\u001B[0;34m(\u001B[0m\u001B[0mltp\u001B[0m\u001B[0;34m.\u001B[0m\u001B[0mgreedy_curving\u001B[0m\u001B[0;34m(\u001B[0m\u001B[0mreturn_rank\u001B[0m\u001B[0;34m=\u001B[0m\u001B[0;32mTrue\u001B[0m\u001B[0;34m)\u001B[0m\u001B[0;34m)\u001B[0m\u001B[0;34m\u001B[0m\u001B[0;34m\u001B[0m\u001B[0m\n\u001B[0m\u001B[1;32m      2\u001B[0m \u001B[0mprint\u001B[0m\u001B[0;34m(\u001B[0m\u001B[0mltp\u001B[0m\u001B[0;34m.\u001B[0m\u001B[0mgreedy_curving\u001B[0m\u001B[0;34m(\u001B[0m\u001B[0mreturn_rank\u001B[0m\u001B[0;34m=\u001B[0m\u001B[0;32mFalse\u001B[0m\u001B[0;34m)\u001B[0m\u001B[0;34m)\u001B[0m\u001B[0;34m\u001B[0m\u001B[0;34m\u001B[0m\u001B[0m\n\u001B[1;32m      3\u001B[0m \u001B[0;34m\u001B[0m\u001B[0m\n",
      "\u001B[0;31mNameError\u001B[0m: name 'ltp' is not defined"
     ]
    }
   ],
   "source": [
    "print(ltp.imaginary_embedding_chains())"
   ],
   "metadata": {
    "collapsed": false,
    "ExecuteTime": {
     "end_time": "2023-07-07T11:33:50.097969437Z",
     "start_time": "2023-07-07T11:33:50.071174062Z"
    }
   }
  },
  {
   "cell_type": "code",
   "execution_count": 11,
   "outputs": [
    {
     "name": "stdout",
     "output_type": "stream",
     "text": [
      "Found existing installation: protobuf 4.22.1\r\n",
      "Uninstalling protobuf-4.22.1:\r\n",
      "  Would remove:\r\n",
      "    /usr/local/lib/python3.8/dist-packages/google/_upb/_message.abi3.so\r\n",
      "    /usr/local/lib/python3.8/dist-packages/google/protobuf/*\r\n",
      "    /usr/local/lib/python3.8/dist-packages/protobuf-4.22.1.dist-info/*\r\n",
      "Proceed (y/n)? ^C\r\n",
      "\u001B[31mERROR: Operation cancelled by user\u001B[0m\r\n"
     ]
    }
   ],
   "source": [
    "!python3 -m pip uninstall  protobuf"
   ],
   "metadata": {
    "collapsed": false,
    "pycharm": {
     "name": "#%%\n"
    },
    "ExecuteTime": {
     "end_time": "2023-07-05T16:32:15.337570621Z",
     "start_time": "2023-07-05T16:31:58.604510741Z"
    }
   }
  }
 ],
 "metadata": {
  "kernelspec": {
   "display_name": "Python 3",
   "language": "python",
   "name": "python3"
  },
  "language_info": {
   "codemirror_mode": {
    "name": "ipython",
    "version": 2
   },
   "file_extension": ".py",
   "mimetype": "text/x-python",
   "name": "python",
   "nbconvert_exporter": "python",
   "pygments_lexer": "ipython2",
   "version": "2.7.6"
  }
 },
 "nbformat": 4,
 "nbformat_minor": 0
}
