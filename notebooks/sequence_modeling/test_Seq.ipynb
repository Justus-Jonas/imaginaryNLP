{
 "cells": [
  {
   "cell_type": "markdown",
   "source": [
    "# Example Notebook on Imaginary Embeddings for Sequence Modeling"
   ],
   "metadata": {
    "collapsed": false
   }
  },
  {
   "cell_type": "code",
   "execution_count": 1,
   "outputs": [
    {
     "name": "stdout",
     "output_type": "stream",
     "text": [
      "Sorry, but the code for Imaginary Embeddings is not yet published. You will be able to test this package during the ACL 2023 conference.\n"
     ]
    },
    {
     "name": "stderr",
     "output_type": "stream",
     "text": [
      "/home/justus-jonas/anaconda3/lib/python3.9/site-packages/torch/cuda/__init__.py:107: UserWarning: CUDA initialization: The NVIDIA driver on your system is too old (found version 9010). Please update your GPU driver by downloading and installing a new version from the URL: http://www.nvidia.com/Download/index.aspx Alternatively, go to: https://pytorch.org to install a PyTorch version that has been compiled with your version of the CUDA driver. (Triggered internally at ../c10/cuda/CUDAFunctions.cpp:109.)\n",
      "  return torch._C._cuda_getDeviceCount() > 0\n"
     ]
    }
   ],
   "source": [
    "from imaginaryNLP.ImaginaryEmbeddingsForSequenceModeling import EvalImaginaryEmbeddingsForSequenceModeling\n",
    "\n",
    "# Load the model\n",
    "seq = EvalImaginaryEmbeddingsForSequenceModeling('Justus-Jonas/Imaginary-Embeddings-Classic', speaker_token=False)"
   ],
   "metadata": {
    "collapsed": false,
    "pycharm": {
     "name": "#%%\n"
    },
    "ExecuteTime": {
     "end_time": "2023-08-01T09:35:58.149794852Z",
     "start_time": "2023-08-01T09:35:51.508917167Z"
    }
   }
  },
  {
   "cell_type": "markdown",
   "source": [
    "# Utilizing Pre-compute in sequence modeling with filtering"
   ],
   "metadata": {
    "collapsed": false
   }
  },
  {
   "cell_type": "code",
   "execution_count": 2,
   "outputs": [
    {
     "data": {
      "text/plain": "Batches:   0%|          | 0/1 [00:00<?, ?it/s]",
      "application/vnd.jupyter.widget-view+json": {
       "version_major": 2,
       "version_minor": 0,
       "model_id": "c3e4a59166ec46c88f28e9ea5978c5e1"
      }
     },
     "metadata": {},
     "output_type": "display_data"
    }
   ],
   "source": [
    "seq.load_candidates_from_strings([\"I'm fine, thanks. How are you?\", \"Where did you go?\", \"ACL is an interesting conference\"])\n",
    "seq.create_context([\"Hi!\",'Hey, how are you?'], precompute_top_p=0.8)"
   ],
   "metadata": {
    "collapsed": false,
    "pycharm": {
     "name": "#%%\n"
    },
    "ExecuteTime": {
     "end_time": "2023-08-01T09:35:58.377165314Z",
     "start_time": "2023-08-01T09:35:58.153138896Z"
    }
   }
  },
  {
   "cell_type": "markdown",
   "source": [],
   "metadata": {
    "collapsed": false
   }
  },
  {
   "cell_type": "code",
   "execution_count": 3,
   "outputs": [
    {
     "name": "stdout",
     "output_type": "stream",
     "text": [
      "computed_scores: tensor([[1.1310, 1.1134]])\n"
     ]
    },
    {
     "data": {
      "text/plain": "(['Where did you go?', \"I'm fine, thanks. How are you?\"],\n [1.1310292482376099, 1.1134188175201416])"
     },
     "execution_count": 3,
     "metadata": {},
     "output_type": "execute_result"
    }
   ],
   "source": [
    "seq.sequence_modeling_with_precompute(\"I am doing good. Today I went for a walk. \")"
   ],
   "metadata": {
    "collapsed": false,
    "ExecuteTime": {
     "end_time": "2023-08-01T09:35:58.513509658Z",
     "start_time": "2023-08-01T09:35:58.419045554Z"
    }
   }
  },
  {
   "cell_type": "code",
   "execution_count": 4,
   "outputs": [
    {
     "name": "stdout",
     "output_type": "stream",
     "text": [
      "computed_scores: tensor([1.1056, 0.5536, 0.5671])\n"
     ]
    },
    {
     "data": {
      "text/plain": "(['the kettle is boiling',\n  'You are welcome!',\n  \"I'm fine, thanks. How are you?\"],\n [1.1055872440338135, 0.5671207308769226, 0.5536468029022217])"
     },
     "execution_count": 4,
     "metadata": {},
     "output_type": "execute_result"
    }
   ],
   "source": [
    "seq.sequence_model_single_context()"
   ],
   "metadata": {
    "collapsed": false,
    "ExecuteTime": {
     "end_time": "2023-07-07T21:27:41.484611065Z",
     "start_time": "2023-07-07T21:27:41.484021895Z"
    }
   }
  },
  {
   "cell_type": "markdown",
   "source": [
    "# Evaluate model"
   ],
   "metadata": {
    "collapsed": false
   }
  },
  {
   "cell_type": "code",
   "execution_count": 5,
   "outputs": [
    {
     "name": "stderr",
     "output_type": "stream",
     "text": [
      "Found cached dataset daily_dialog (/home/justus-jonas/.cache/huggingface/datasets/daily_dialog/default/1.0.0/1d0a58c7f2a4dab5ed9d01dbde8e55e0058e589ab81fce5c2df929ea810eabcd)\n"
     ]
    },
    {
     "data": {
      "text/plain": "  0%|          | 0/3 [00:00<?, ?it/s]",
      "application/vnd.jupyter.widget-view+json": {
       "version_major": 2,
       "version_minor": 0,
       "model_id": "38ca534adb2e4002bcba9c30c6b133dc"
      }
     },
     "metadata": {},
     "output_type": "display_data"
    },
    {
     "name": "stdout",
     "output_type": "stream",
     "text": [
      "history length: 1\n",
      "history length: 2\n",
      "history length: 3\n",
      "history length: 4\n",
      "history length: 5\n",
      "history length: 6\n",
      "history length: 7\n",
      "history length: 8\n",
      "history length: 9\n",
      "history length: 10\n"
     ]
    },
    {
     "data": {
      "text/plain": "   H1_mean_rank  H2_mean_rank  H3_mean_rank  H4_mean_rank  H5_mean_rank  \\\n0         93.66     79.440501     68.160131     58.252362     51.883257   \n\n   H6_mean_rank  H7_mean_rank  H8_mean_rank  H9_mean_rank  H10_mean_rank  \n0     42.181648     44.237996     42.161039     31.551084      29.234783  ",
      "text/html": "<div>\n<style scoped>\n    .dataframe tbody tr th:only-of-type {\n        vertical-align: middle;\n    }\n\n    .dataframe tbody tr th {\n        vertical-align: top;\n    }\n\n    .dataframe thead th {\n        text-align: right;\n    }\n</style>\n<table border=\"1\" class=\"dataframe\">\n  <thead>\n    <tr style=\"text-align: right;\">\n      <th></th>\n      <th>H1_mean_rank</th>\n      <th>H2_mean_rank</th>\n      <th>H3_mean_rank</th>\n      <th>H4_mean_rank</th>\n      <th>H5_mean_rank</th>\n      <th>H6_mean_rank</th>\n      <th>H7_mean_rank</th>\n      <th>H8_mean_rank</th>\n      <th>H9_mean_rank</th>\n      <th>H10_mean_rank</th>\n    </tr>\n  </thead>\n  <tbody>\n    <tr>\n      <th>0</th>\n      <td>93.66</td>\n      <td>79.440501</td>\n      <td>68.160131</td>\n      <td>58.252362</td>\n      <td>51.883257</td>\n      <td>42.181648</td>\n      <td>44.237996</td>\n      <td>42.161039</td>\n      <td>31.551084</td>\n      <td>29.234783</td>\n    </tr>\n  </tbody>\n</table>\n</div>"
     },
     "execution_count": 5,
     "metadata": {},
     "output_type": "execute_result"
    }
   ],
   "source": [
    "from datasets import load_dataset\n",
    "\n",
    "dataset = load_dataset(\"daily_dialog\")\n",
    "test = dataset['test']['dialog']\n",
    "\n",
    "seq.evaluate_seq_dataset(test)\n"
   ],
   "metadata": {
    "collapsed": false,
    "ExecuteTime": {
     "end_time": "2023-08-01T09:43:07.550733972Z",
     "start_time": "2023-08-01T09:37:57.528330834Z"
    }
   }
  }
 ],
 "metadata": {
  "kernelspec": {
   "display_name": "Python 3",
   "language": "python",
   "name": "python3"
  },
  "language_info": {
   "codemirror_mode": {
    "name": "ipython",
    "version": 2
   },
   "file_extension": ".py",
   "mimetype": "text/x-python",
   "name": "python",
   "nbconvert_exporter": "python",
   "pygments_lexer": "ipython2",
   "version": "2.7.6"
  }
 },
 "nbformat": 4,
 "nbformat_minor": 0
}
