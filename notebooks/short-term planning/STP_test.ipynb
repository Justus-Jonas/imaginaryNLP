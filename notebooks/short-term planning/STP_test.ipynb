{
 "cells": [
  {
   "cell_type": "markdown",
   "source": [
    "# Example Notebook on Imaginary Embeddings for Short-Term Planning\n"
   ],
   "metadata": {
    "collapsed": false
   }
  },
  {
   "cell_type": "code",
   "execution_count": 1,
   "outputs": [
    {
     "name": "stderr",
     "output_type": "stream",
     "text": [
      "/home/justus-jonas/anaconda3/lib/python3.9/site-packages/torch/cuda/__init__.py:107: UserWarning: CUDA initialization: The NVIDIA driver on your system is too old (found version 9010). Please update your GPU driver by downloading and installing a new version from the URL: http://www.nvidia.com/Download/index.aspx Alternatively, go to: https://pytorch.org to install a PyTorch version that has been compiled with your version of the CUDA driver. (Triggered internally at ../c10/cuda/CUDAFunctions.cpp:109.)\n",
      "  return torch._C._cuda_getDeviceCount() > 0\n"
     ]
    }
   ],
   "source": [
    "from imaginaryNLP.ImaginaryEmbeddingsForSTP import ImaginaryEmbeddingsForSTP, EvalImaginaryEmbeddingsForSTP\n",
    "\n",
    "# Load the model\n",
    "stp = EvalImaginaryEmbeddingsForSTP('Justus-Jonas/Imaginary-Embeddings-SpeakerTokens-STP')"
   ],
   "metadata": {
    "collapsed": false,
    "pycharm": {
     "name": "#%%\n"
    },
    "ExecuteTime": {
     "end_time": "2023-08-01T08:25:38.844034808Z",
     "start_time": "2023-08-01T08:25:13.817658471Z"
    }
   }
  },
  {
   "cell_type": "code",
   "execution_count": 2,
   "outputs": [
    {
     "data": {
      "text/plain": "'Want to eat something out ?'"
     },
     "execution_count": 2,
     "metadata": {},
     "output_type": "execute_result"
    }
   ],
   "source": [
    "candidates = ['Want to eat something out ?',\n",
    "              'Want to go for a walk ?']\n",
    "\n",
    "goal = ' I am hungry.'\n",
    "\n",
    "stp.short_term_planning(candidates, goal)\n"
   ],
   "metadata": {
    "collapsed": false,
    "pycharm": {
     "name": "#%%\n"
    },
    "ExecuteTime": {
     "end_time": "2023-08-01T08:25:39.247727474Z",
     "start_time": "2023-08-01T08:25:38.849314347Z"
    }
   }
  },
  {
   "cell_type": "markdown",
   "source": [
    "Note before being able to evaluate your model, you need to generate the dataset with `stp.create_stp_dataset()` and add transformer candidates with `stp.add_transformer_candidates()` where you can specify the llm of your choice. Note that these datasets become big quickly. We are using a very small sample file from `data_sample` folder."
   ],
   "metadata": {
    "collapsed": false
   }
  },
  {
   "cell_type": "markdown",
   "source": [],
   "metadata": {
    "collapsed": false
   }
  },
  {
   "cell_type": "code",
   "execution_count": 39,
   "outputs": [
    {
     "data": {
      "text/plain": "  0%|          | 0/1 [00:00<?, ?it/s]",
      "application/vnd.jupyter.widget-view+json": {
       "version_major": 2,
       "version_minor": 0,
       "model_id": "1603069a20ef4f4691d5747be8317322"
      }
     },
     "metadata": {},
     "output_type": "display_data"
    },
    {
     "data": {
      "text/plain": "  0%|          | 0/51 [00:00<?, ?it/s]",
      "application/vnd.jupyter.widget-view+json": {
       "version_major": 2,
       "version_minor": 0,
       "model_id": "e1fe9d0c6dd94efa96cde78a46acb589"
      }
     },
     "metadata": {},
     "output_type": "display_data"
    },
    {
     "data": {
      "text/plain": "   History Length  Goal Distance     Top 5    Top 10    Top 25   Top 50  \\\n0              10              4  0.431373  0.509804  0.627451  0.72549   \n\n   Average Rank  \n0     29.960784  ",
      "text/html": "<div>\n<style scoped>\n    .dataframe tbody tr th:only-of-type {\n        vertical-align: middle;\n    }\n\n    .dataframe tbody tr th {\n        vertical-align: top;\n    }\n\n    .dataframe thead th {\n        text-align: right;\n    }\n</style>\n<table border=\"1\" class=\"dataframe\">\n  <thead>\n    <tr style=\"text-align: right;\">\n      <th></th>\n      <th>History Length</th>\n      <th>Goal Distance</th>\n      <th>Top 5</th>\n      <th>Top 10</th>\n      <th>Top 25</th>\n      <th>Top 50</th>\n      <th>Average Rank</th>\n    </tr>\n  </thead>\n  <tbody>\n    <tr>\n      <th>0</th>\n      <td>10</td>\n      <td>4</td>\n      <td>0.431373</td>\n      <td>0.509804</td>\n      <td>0.627451</td>\n      <td>0.72549</td>\n      <td>29.960784</td>\n    </tr>\n  </tbody>\n</table>\n</div>"
     },
     "execution_count": 39,
     "metadata": {},
     "output_type": "execute_result"
    }
   ],
   "source": [
    "df = stp.evaluate_stp_dataset('../../data/')\n",
    "df"
   ],
   "metadata": {
    "collapsed": false,
    "ExecuteTime": {
     "end_time": "2023-08-01T08:36:41.202252034Z",
     "start_time": "2023-08-01T08:35:28.330064421Z"
    }
   }
  }
 ],
 "metadata": {
  "kernelspec": {
   "display_name": "Python 3",
   "language": "python",
   "name": "python3"
  },
  "language_info": {
   "codemirror_mode": {
    "name": "ipython",
    "version": 2
   },
   "file_extension": ".py",
   "mimetype": "text/x-python",
   "name": "python",
   "nbconvert_exporter": "python",
   "pygments_lexer": "ipython2",
   "version": "2.7.6"
  }
 },
 "nbformat": 4,
 "nbformat_minor": 0
}
